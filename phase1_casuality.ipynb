{
 "cells": [
  {
   "cell_type": "markdown",
   "metadata": {},
   "source": [
    "### Libraries"
   ]
  },
  {
   "cell_type": "code",
   "execution_count": 27,
   "metadata": {
    "collapsed": true
   },
   "outputs": [],
   "source": [
    "import os\n",
    "import pandas as pd\n",
    "import numpy as np\n",
    "import random\n",
    "from sklearn.ensemble import RandomForestClassifier\n",
    "import matplotlib.pyplot as plt"
   ]
  },
  {
   "cell_type": "markdown",
   "metadata": {},
   "source": [
    "#### defining the rectangle size for plotting the figure\n",
    "\n"
   ]
  },
  {
   "cell_type": "code",
   "execution_count": 28,
   "metadata": {
    "collapsed": true
   },
   "outputs": [],
   "source": [
    "def autolabel(rects):\n",
    "    \"\"\"\n",
    "    Attach a text label above each bar displaying its height\n",
    "    \"\"\"\n",
    "    for rect in rects:\n",
    "        height = rect.get_height()\n",
    "        ax.text(rect.get_x() + rect.get_width()/2., 1.05*height,\n",
    "                '%d' % int(height),\n",
    "                ha='center', va='bottom')"
   ]
  },
  {
   "cell_type": "markdown",
   "metadata": {},
   "source": [
    "### Reading data\n",
    "Dataset link:http://data.dft.gov.uk/road-accidents-safety-data/DfTRoadSafety_Casualties_2014.zip\n",
    "\n"
   ]
  },
  {
   "cell_type": "code",
   "execution_count": 30,
   "metadata": {
    "collapsed": true
   },
   "outputs": [],
   "source": [
    "#os.chdir(r'E:\\training\\Projects\\Vehicle_traffic_data_mining')\n",
    "#df=h2o.import_frame(path='E:\\training\\Projects\\Vehicle_traffic_data_mining\\DfTRoadSafety_Accidents_2014.csv')\n",
    "df=pd.read_csv('DfTRoadSafety_Casualties_2014.csv')\n"
   ]
  },
  {
   "cell_type": "markdown",
   "metadata": {},
   "source": [
    "### Selecting Features"
   ]
  },
  {
   "cell_type": "code",
   "execution_count": 31,
   "metadata": {
    "collapsed": true
   },
   "outputs": [],
   "source": [
    "Features=df[['Casualty_Type','Age_Band_of_Casualty','Casualty_Class',\n",
    "    'Pedestrian_Location','Car_Passenger','Pedestrian_Movement','Vehicle_Reference']]\n"
   ]
  },
  {
   "cell_type": "markdown",
   "metadata": {},
   "source": [
    "### Defining Severity"
   ]
  },
  {
   "cell_type": "code",
   "execution_count": 32,
   "metadata": {
    "collapsed": true
   },
   "outputs": [],
   "source": [
    "Severity=df[['Casualty_Severity']]\n",
    "#print(Severity)\n",
    "#Label=np.zeros(len(Severity))\n",
    "ind=Severity==3\n",
    "Label=[]\n",
    "for i in np.array(ind):\n",
    "    if i==True:\n",
    "        Label.append(1)\n",
    "    else:\n",
    "        Label.append(0)"
   ]
  },
  {
   "cell_type": "markdown",
   "metadata": {},
   "source": [
    "### Appending the label list"
   ]
  },
  {
   "cell_type": "code",
   "execution_count": 33,
   "metadata": {
    "collapsed": true
   },
   "outputs": [],
   "source": [
    "Label=np.array(Label)"
   ]
  },
  {
   "cell_type": "markdown",
   "metadata": {},
   "source": [
    "### Training - 80% data\n",
    "### Testing- 20% data\n",
    "\n",
    "\n",
    "\n"
   ]
  },
  {
   "cell_type": "code",
   "execution_count": 34,
   "metadata": {
    "collapsed": true
   },
   "outputs": [],
   "source": [
    "numFeatures=len(Features)\n",
    "numTrainFeatures=np.floor(0.8*numFeatures)\n",
    "numTestFeatures=numFeatures-numTrainFeatures\n",
    "ind=random.sample(range(numFeatures),(numFeatures))"
   ]
  },
  {
   "cell_type": "code",
   "execution_count": 35,
   "metadata": {
    "collapsed": true
   },
   "outputs": [],
   "source": [
    "trainIndices=ind[1:int(numTrainFeatures)]\n",
    "testIndices=ind[int(numTrainFeatures+1):]\n",
    "trainFeatures=Features.loc[trainIndices,:]\n",
    "trainLabels=Label[trainIndices[:]];\n",
    "testFeatures=Features.loc[testIndices,:]\n",
    "testLabels=Label[testIndices[:]]\n"
   ]
  },
  {
   "cell_type": "markdown",
   "metadata": {},
   "source": [
    "### Random forest classifier\n"
   ]
  },
  {
   "cell_type": "code",
   "execution_count": 36,
   "metadata": {},
   "outputs": [
    {
     "name": "stdout",
     "output_type": "stream",
     "text": [
      "Training Accuracy is: 87.48103869391952\n",
      "Testing Accuracy is: 87.28628358400823\n"
     ]
    }
   ],
   "source": [
    "rf = RandomForestClassifier(n_estimators=100) # initialize\n",
    "rf.fit(trainFeatures,trainLabels) # fit the data to the algorithm\n",
    "results = rf.predict(trainFeatures)\n",
    "ind=(results==trainLabels);\n",
    "ind=list(ind);\n",
    "trainAcc_tree=float(ind.count(True))/float(len(trainLabels));\n",
    "print('Training Accuracy is:',trainAcc_tree*100);\n",
    "results = rf.predict(testFeatures)\n",
    "ind=(results==testLabels);\n",
    "ind=list(ind);\n",
    "testAcc_tree=float(ind.count(True))/float(len(testLabels));\n",
    "print ('Testing Accuracy is:',testAcc_tree*100);"
   ]
  },
  {
   "cell_type": "markdown",
   "metadata": {},
   "source": [
    "### Age casuality"
   ]
  },
  {
   "cell_type": "code",
   "execution_count": 37,
   "metadata": {
    "collapsed": true
   },
   "outputs": [],
   "source": [
    "age_caus={}\n",
    "L=[0,6,11,16,21,26,31,36,41,46,51,56]\n",
    "for i in range(0,len(L)-1) :\n",
    "    band=float(len(df.loc[((df.Age_of_Casualty>=i) & (df.Age_of_Casualty<=i+5)),:]))/len(df)*100;\n",
    "    #print(band)\n",
    "    age_caus[str(L[i])+'-'+str(L[i+1])]=band;"
   ]
  },
  {
   "cell_type": "markdown",
   "metadata": {},
   "source": [
    "### Male casuality\n"
   ]
  },
  {
   "cell_type": "code",
   "execution_count": 38,
   "metadata": {},
   "outputs": [
    {
     "name": "stdout",
     "output_type": "stream",
     "text": [
      "male_caus 59.16432277338708\n"
     ]
    }
   ],
   "source": [
    "male_caus=float(len(df.loc[(df.Sex_of_Casualty==1),:]))/len(df)*100\n",
    "print ('male_caus',male_caus)"
   ]
  },
  {
   "cell_type": "markdown",
   "metadata": {},
   "source": [
    "### Female casuality"
   ]
  },
  {
   "cell_type": "code",
   "execution_count": 39,
   "metadata": {},
   "outputs": [
    {
     "name": "stdout",
     "output_type": "stream",
     "text": [
      "female_caus 40.834134627745186\n"
     ]
    }
   ],
   "source": [
    "female_caus=float(len(df.loc[(df.Sex_of_Casualty==2),:]))/len(df)*100\n",
    "print ('female_caus',female_caus)"
   ]
  },
  {
   "cell_type": "markdown",
   "metadata": {},
   "source": [
    "#### Distribution of causuality between car passengers and pedestrians\n",
    "\n"
   ]
  },
  {
   "cell_type": "code",
   "execution_count": 40,
   "metadata": {},
   "outputs": [
    {
     "name": "stdout",
     "output_type": "stream",
     "text": [
      "no_car_passenger 80.82806707219878\n"
     ]
    }
   ],
   "source": [
    "# Distribution of causuality between car passengers and pedestrians\n",
    "no_car_passenger=float(len(df.loc[(df.Car_Passenger==0),:]))/len(df)*100\n",
    "print ('no_car_passenger',no_car_passenger)"
   ]
  },
  {
   "cell_type": "markdown",
   "metadata": {},
   "source": [
    "#### Front seat passenger"
   ]
  },
  {
   "cell_type": "code",
   "execution_count": 41,
   "metadata": {},
   "outputs": [
    {
     "name": "stdout",
     "output_type": "stream",
     "text": [
      "front_seat_passenger 12.137682090941345\n"
     ]
    }
   ],
   "source": [
    "front_seat_passenger=float(len(df.loc[(df.Car_Passenger==1),:]))/len(df)*100\n",
    "print ('front_seat_passenger',front_seat_passenger)"
   ]
  },
  {
   "cell_type": "markdown",
   "metadata": {},
   "source": [
    "#### Back seat passenger"
   ]
  },
  {
   "cell_type": "code",
   "execution_count": 42,
   "metadata": {},
   "outputs": [
    {
     "name": "stdout",
     "output_type": "stream",
     "text": [
      "rare_seat_passenger 7.033736637237309\n"
     ]
    }
   ],
   "source": [
    "rare_seat_passenger=float(len(df.loc[(df.Car_Passenger==2),:]))/len(df)*100\n",
    "print ('rare_seat_passenger',rare_seat_passenger)"
   ]
  },
  {
   "cell_type": "code",
   "execution_count": 47,
   "metadata": {
    "collapsed": true
   },
   "outputs": [],
   "source": [
    "data=[no_car_passenger,front_seat_passenger,rare_seat_passenger];"
   ]
  },
  {
   "cell_type": "markdown",
   "metadata": {},
   "source": [
    "#### Plotting the figure\n",
    "\n",
    "\n",
    "\n",
    "\n",
    "\n",
    "\n"
   ]
  },
  {
   "cell_type": "code",
   "execution_count": 49,
   "metadata": {},
   "outputs": [
    {
     "data": {
      "image/png": "[encoded data removed]",
      "text/plain": [
       "<matplotlib.figure.Figure at 0x10f8fd128>"
      ]
     },
     "metadata": {},
     "output_type": "display_data"
    }
   ],
   "source": [
    "fig, ax = plt.subplots()\n",
    "ind=np.arange(3)\n",
    "width=0.35\n",
    "react=ax.bar(ind,data,width,color='r')\n",
    "ax.set_ylabel('Causuality percentage')\n",
    "ax.set_title('Distribution of causuality between car passengers and pedestrians')\n",
    "ax.set_xticks(ind + width / 2)\n",
    "ax.set_xticklabels(( 'no_car_passenger','front_seat_passenger','rare_seat_passenger'))\n",
    "autolabel(react)\n",
    "plt.grid(True)\n",
    "plt.show()"
   ]
  },
  {
   "cell_type": "code",
   "execution_count": 45,
   "metadata": {},
   "outputs": [
    {
     "data": {
      "image/png": "[encoded data removed]",
      "text/plain": [
       "<matplotlib.figure.Figure at 0x110318048>"
      ]
     },
     "metadata": {},
     "output_type": "display_data"
    }
   ],
   "source": [
    "labels=['Male Casuality ','Female Casuality']\n",
    "data=[male_caus,female_caus];\n",
    "explode=(0.0,0.1)\n",
    "plt.pie(data,explode=explode,labels=labels,shadow=True, autopct='%1.1f%%')\n",
    "plt.show()\n",
    "\n"
   ]
  },
  {
   "cell_type": "code",
   "execution_count": 50,
   "metadata": {},
   "outputs": [
    {
     "data": {
      "text/plain": [
       "{'0-6': 1.8706582269368615,\n",
       " '11-16': 2.6049352879774985,\n",
       " '16-21': 2.8255269260632363,\n",
       " '21-26': 2.989042406042874,\n",
       " '26-31': 3.2091198445060343,\n",
       " '31-36': 3.554661990878099,\n",
       " '36-41': 3.86215336517943,\n",
       " '41-46': 4.126451971184252,\n",
       " '46-51': 4.345501010402258,\n",
       " '51-56': 4.596944625842644,\n",
       " '6-11': 2.317497698956689}"
      ]
     },
     "execution_count": 50,
     "metadata": {},
     "output_type": "execute_result"
    }
   ],
   "source": [
    "age_caus"
   ]
  },
  {
   "cell_type": "code",
   "execution_count": 75,
   "metadata": {},
   "outputs": [
    {
     "data": {
      "image/png": "[encoded data removed]",
      "text/plain": [
       "<matplotlib.figure.Figure at 0x110216898>"
      ]
     },
     "metadata": {},
     "output_type": "display_data"
    }
   ],
   "source": [
    "plt.bar(range(len(age_caus)), age_caus.values(), align='center')\n",
    "plt.xticks(range(len(age_caus)), age_caus.keys())\n",
    "plt.show()"
   ]
  }
 ],
 "metadata": {
  "kernelspec": {
   "display_name": "Python 3",
   "language": "python",
   "name": "python3"
  },
  "language_info": {
   "codemirror_mode": {
    "name": "ipython",
    "version": 3
   },
   "file_extension": ".py",
   "mimetype": "text/x-python",
   "name": "python",
   "nbconvert_exporter": "python",
   "pygments_lexer": "ipython3",
   "version": "3.6.0"
  }
 },
 "nbformat": 4,
 "nbformat_minor": 2
}
