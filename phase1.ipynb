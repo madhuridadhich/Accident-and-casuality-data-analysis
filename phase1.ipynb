{
 "cells": [
  {
   "cell_type": "markdown",
   "metadata": {
    "collapsed": true
   },
   "source": [
    "### Libraries\n",
    "\n",
    "\n"
   ]
  },
  {
   "cell_type": "markdown",
   "metadata": {
    "collapsed": true
   },
   "source": [
    "###### The OS module in Python provides a way of using operating system dependent functionality.\n",
    "\n"
   ]
  },
  {
   "cell_type": "code",
   "execution_count": 57,
   "metadata": {
    "collapsed": true
   },
   "outputs": [],
   "source": [
    "import os "
   ]
  },
  {
   "cell_type": "markdown",
   "metadata": {
    "collapsed": true
   },
   "source": [
    "  ##### used for reading and analysing the data\n",
    "  "
   ]
  },
  {
   "cell_type": "code",
   "execution_count": 58,
   "metadata": {
    "collapsed": true
   },
   "outputs": [],
   "source": [
    "import pandas as pd"
   ]
  },
  {
   "cell_type": "markdown",
   "metadata": {
    "collapsed": true
   },
   "source": [
    "##### used for computation on arrays"
   ]
  },
  {
   "cell_type": "code",
   "execution_count": 59,
   "metadata": {
    "collapsed": true
   },
   "outputs": [],
   "source": [
    "import numpy as np "
   ]
  },
  {
   "cell_type": "markdown",
   "metadata": {},
   "source": [
    "##### for random sample generation"
   ]
  },
  {
   "cell_type": "code",
   "execution_count": 60,
   "metadata": {
    "collapsed": true
   },
   "outputs": [],
   "source": [
    "import random "
   ]
  },
  {
   "cell_type": "markdown",
   "metadata": {},
   "source": [
    "#####  ensemble methods  combines the predictions of several base estimators built with a given learning algorithm :  random forest for classification\n",
    "\n",
    "\n"
   ]
  },
  {
   "cell_type": "code",
   "execution_count": 61,
   "metadata": {
    "collapsed": true
   },
   "outputs": [],
   "source": [
    "from sklearn.ensemble import RandomForestClassifier"
   ]
  },
  {
   "cell_type": "markdown",
   "metadata": {},
   "source": [
    "##### using naive bayes for feature selection\n",
    "library for naive bayes\n"
   ]
  },
  {
   "cell_type": "code",
   "execution_count": 62,
   "metadata": {
    "collapsed": true
   },
   "outputs": [],
   "source": [
    "from sklearn.naive_bayes import GaussianNB"
   ]
  },
  {
   "cell_type": "markdown",
   "metadata": {},
   "source": [
    "##### Library for plotting the results"
   ]
  },
  {
   "cell_type": "code",
   "execution_count": 63,
   "metadata": {
    "collapsed": true
   },
   "outputs": [],
   "source": [
    "import matplotlib.pyplot as plt  "
   ]
  },
  {
   "cell_type": "markdown",
   "metadata": {},
   "source": [
    "#### Reading data\n",
    "Link for the data used here:http://data.dft.gov.uk/road-accidents-safety-data/DfTRoadSafety_Vehicles_2014.zip\n",
    "\n"
   ]
  },
  {
   "cell_type": "code",
   "execution_count": 64,
   "metadata": {
    "collapsed": true
   },
   "outputs": [],
   "source": [
    "# If the data is in same directory you can use this \n",
    "df=pd.read_csv('DfTRoadSafety_Accidents_2014-0.csv')\n",
    "# else give the complete path of data\n",
    "#os.chdir(r'directory:\\folder name\\file name') (path of the data file)\n",
    "\n",
    "#df"
   ]
  },
  {
   "cell_type": "markdown",
   "metadata": {},
   "source": [
    "###  Feature Selection"
   ]
  },
  {
   "cell_type": "markdown",
   "metadata": {},
   "source": [
    "Here we are selecting the features(columns in dataset) of the data for further analysis, You can choose some other features also and see the results\n"
   ]
  },
  {
   "cell_type": "code",
   "execution_count": 65,
   "metadata": {
    "collapsed": true
   },
   "outputs": [],
   "source": [
    "Features=df[['Number_of_Vehicles','Day_of_Week','Junction_Detail',\n",
    "    'Speed_limit','Weather_Conditions','Road_Type','Light_Conditions',\n",
    "                  'Junction_Control','Urban_or_Rural_Area']]\n",
    "#myx=['Number_of_Vehicles','Day_of_Week','Junction_Detail',\n",
    " #   'Speed_limit','Weather_Conditions','Road_Type','Light_Conditions',\n",
    "  #                'Junction_Control','Urban_or_Rural_Area']\n",
    "#myy=['Accident_Severity']"
   ]
  },
  {
   "cell_type": "markdown",
   "metadata": {},
   "source": [
    "### Defining Severity\n",
    "Defining Severity Function for predictions"
   ]
  },
  {
   "cell_type": "code",
   "execution_count": 66,
   "metadata": {
    "collapsed": true
   },
   "outputs": [],
   "source": [
    "# defining severity by taking values  \n",
    "Severity=df[['Accident_Severity']]\n",
    "ind=Severity==3 # maximum severity index defined in data set\n",
    "Label=[] # label array for differntiating between severity values for analysis\n",
    "for i in np.array(ind):\n",
    "    if i==True:\n",
    "        Label.append(1)#appending label with true(1) value if severity is 3\n",
    "    else:\n",
    "        Label.append(0) # else appending label with  false(0)\n",
    "        \n",
    "        "
   ]
  },
  {
   "cell_type": "code",
   "execution_count": 67,
   "metadata": {
    "collapsed": true
   },
   "outputs": [],
   "source": [
    "Label=np.array(Label)\n",
    "#print(Label)\n",
    "#print(ind)"
   ]
  },
  {
   "cell_type": "markdown",
   "metadata": {},
   "source": [
    "### Training-80% data \n",
    "### Testing -20% data\n",
    "Here 80% of data have been used for training and 20 % for testing."
   ]
  },
  {
   "cell_type": "code",
   "execution_count": 68,
   "metadata": {
    "collapsed": true
   },
   "outputs": [],
   "source": [
    "\n",
    "# calculating length of features  which will be used for calculating \n",
    "# training and test features\n",
    "numFeatures=len(Features)  \n"
   ]
  },
  {
   "cell_type": "markdown",
   "metadata": {},
   "source": [
    "#### Calculating Training Data\n"
   ]
  },
  {
   "cell_type": "code",
   "execution_count": 69,
   "metadata": {
    "collapsed": true
   },
   "outputs": [],
   "source": [
    "numTrainFeatures=np.floor(0.8*numFeatures) # calculating training data"
   ]
  },
  {
   "cell_type": "markdown",
   "metadata": {},
   "source": [
    "#### Calculating Testing Data\n"
   ]
  },
  {
   "cell_type": "code",
   "execution_count": 70,
   "metadata": {
    "collapsed": true
   },
   "outputs": [],
   "source": [
    "numTestFeatures=numFeatures-numTrainFeatures # calculating test data"
   ]
  },
  {
   "cell_type": "code",
   "execution_count": 71,
   "metadata": {
    "collapsed": true
   },
   "outputs": [],
   "source": [
    "ind=random.sample(range(numFeatures),(numFeatures)) "
   ]
  },
  {
   "cell_type": "code",
   "execution_count": 72,
   "metadata": {
    "collapsed": true
   },
   "outputs": [],
   "source": [
    "# creating train indices \n",
    "trainIndices=ind[1:int(numTrainFeatures)] \n",
    "testIndices=ind[int(numTrainFeatures+1):]\n",
    "trainFeatures=Features.loc[trainIndices,:]\n",
    "trainLabels=Label[trainIndices[:]];\n",
    "testFeatures=Features.loc[testIndices,:]\n",
    "testLabels=Label[testIndices[:]]\n",
    "\n"
   ]
  },
  {
   "cell_type": "markdown",
   "metadata": {},
   "source": [
    "### Random Forest classifier"
   ]
  },
  {
   "cell_type": "code",
   "execution_count": 108,
   "metadata": {},
   "outputs": [
    {
     "name": "stdout",
     "output_type": "stream",
     "text": [
      "\u001b[1mTraining Accuracy using RandomForest is: 86.08358392564243\n",
      "Testing Accuracy Using RandomForest is: 83.82996172772008\n"
     ]
    }
   ],
   "source": [
    "# random forest classifier,\n",
    "#The number of trees in the forest.\n",
    "\n",
    "rf = RandomForestClassifier(n_estimators=100) # initialize\n",
    "rf.fit(trainFeatures,trainLabels) # fit the data to the algorithm\n",
    "results = rf.predict(trainFeatures)\n",
    "ind=(results==trainLabels);\n",
    "ind=list(ind);\n",
    "trainAcc_tree=float(ind.count(True))/float(len(trainLabels));\n",
    "print('\\033[1m'+'Training Accuracy using RandomForest is:',trainAcc_tree*100);\n",
    "results = rf.predict(testFeatures)\n",
    "ind=(results==testLabels);\n",
    "ind=list(ind);\n",
    "testAcc_tree=float(ind.count(True))/float(len(testLabels));\n",
    "print ('Testing Accuracy Using RandomForest is:',testAcc_tree*100);\n",
    "test1=testAcc_tree*100\n"
   ]
  },
  {
   "cell_type": "code",
   "execution_count": 109,
   "metadata": {},
   "outputs": [
    {
     "name": "stdout",
     "output_type": "stream",
     "text": [
      "Testing Accuracy Using naive_bayes is: 82.8970749043193\n"
     ]
    }
   ],
   "source": [
    "gnb = GaussianNB()\n",
    "results= gnb.fit(trainFeatures,trainLabels)\n",
    "ind=(results==trainLabels);\n",
    "ind=list(ind);\n",
    "#trainAcc_tree=float(ind.count(True))/float(len(trainLabels));\n",
    "results= gnb.fit(trainFeatures,trainLabels).predict(testFeatures)\n",
    "ind=(results==testLabels);\n",
    "ind=list(ind);\n",
    "testAcc_tree=float(ind.count(True))/float(len(testLabels));\n",
    "test2=testAcc_tree*100\n",
    "print ('Testing Accuracy Using naive_bayes is:',testAcc_tree*100);\n",
    "\n",
    "\n"
   ]
  },
  {
   "cell_type": "code",
   "execution_count": 76,
   "metadata": {
    "collapsed": true
   },
   "outputs": [],
   "source": [
    "def proportion(total_range,attri_range):\n",
    "    return float(attri_range)/float(total_range)*100\n"
   ]
  },
  {
   "cell_type": "markdown",
   "metadata": {},
   "source": [
    "#### Data analysis\n",
    "### Analysis 1\n",
    "Accients prediction in residential area at speed 30 km/h\n",
    "\n"
   ]
  },
  {
   "cell_type": "code",
   "execution_count": 77,
   "metadata": {
    "collapsed": true
   },
   "outputs": [],
   "source": [
    "#Data Analysis\n",
    "analysis1=len(df.loc[df.Speed_limit==30,:])\n"
   ]
  },
  {
   "cell_type": "code",
   "execution_count": 78,
   "metadata": {},
   "outputs": [
    {
     "name": "stdout",
     "output_type": "stream",
     "text": [
      "% of accidents in residential area at 30km/hr: 64.92\n",
      "Conclusion1:Most of the accident dont happens on highways as people thinks!!!!!\n"
     ]
    }
   ],
   "source": [
    "#analysis11=len(df.loc[((df.Speed_limit==30) & (df.Accident_Severity==1)) ,:])\n",
    "print ('% of accidents in residential area at 30km/hr:',np.round(proportion(len(df),analysis1),2)\n",
    ")\n",
    "print ('Conclusion1:Most of the accident dont happens on highways as people thinks!!!!!')\n",
    "#print  'proportion2',proportion(analysis1,analysis11)\n"
   ]
  },
  {
   "cell_type": "markdown",
   "metadata": {},
   "source": [
    "### Analysis 2\n",
    "Accidents prediction in Urban area\n"
   ]
  },
  {
   "cell_type": "code",
   "execution_count": 79,
   "metadata": {},
   "outputs": [
    {
     "name": "stdout",
     "output_type": "stream",
     "text": [
      "% of all the accidents happens in Urban areas is  65.8\n"
     ]
    }
   ],
   "source": [
    "analysis2=len(df.loc[df.Urban_or_Rural_Area==1,:])\n",
    "ana2=proportion(len(df),analysis2)\n",
    "print ('% of all the accidents happens in Urban areas is ',np.round(ana2,2))\n"
   ]
  },
  {
   "cell_type": "markdown",
   "metadata": {},
   "source": [
    "### Analysis 3\n",
    "Accidents prediction in uncrontrolled junction\n",
    "\n",
    "\n"
   ]
  },
  {
   "cell_type": "code",
   "execution_count": 80,
   "metadata": {},
   "outputs": [
    {
     "name": "stdout",
     "output_type": "stream",
     "text": [
      "% of accidents in uncontrolled junction: 50.4\n"
     ]
    }
   ],
   "source": [
    "analysis3=len(df.loc[df.Junction_Control==4,:])\n",
    "ana3=proportion(len(df),analysis3)\n",
    "print ('% of accidents in uncontrolled junction:',np.round(ana3,2))\n"
   ]
  },
  {
   "cell_type": "markdown",
   "metadata": {},
   "source": [
    "### Analysis 4\n",
    "Accident prediction when weather is fine\n",
    "\n"
   ]
  },
  {
   "cell_type": "code",
   "execution_count": 81,
   "metadata": {},
   "outputs": [
    {
     "name": "stdout",
     "output_type": "stream",
     "text": [
      "% of accidents when weather is fine is: 81.24\n",
      "Conclusion:People would think that most of accident take place in bad weather\n"
     ]
    }
   ],
   "source": [
    "analysis4=len(df.loc[df.Weather_Conditions==1,:]);\n",
    "ana4=proportion(len(df),analysis4)\n",
    "print( '% of accidents when weather is fine is:',np.round(ana4,2))\n",
    "print ('Conclusion:People would think that most of accident take place in bad weather')\n",
    "\n"
   ]
  },
  {
   "cell_type": "markdown",
   "metadata": {},
   "source": [
    "### Analysis 5\n",
    "Accidents in daylight"
   ]
  },
  {
   "cell_type": "code",
   "execution_count": 82,
   "metadata": {},
   "outputs": [
    {
     "name": "stdout",
     "output_type": "stream",
     "text": [
      "% of accidents happend in daylight 73.86\n"
     ]
    }
   ],
   "source": [
    "analysis5=len(df.loc[df.Light_Conditions==1,:])\n",
    "ana5=proportion(len(df),analysis5)\n",
    "print ('% of accidents happend in daylight',np.round(ana5,2))"
   ]
  },
  {
   "cell_type": "markdown",
   "metadata": {},
   "source": [
    "### Accidents on Sundays"
   ]
  },
  {
   "cell_type": "code",
   "execution_count": 83,
   "metadata": {},
   "outputs": [
    {
     "name": "stdout",
     "output_type": "stream",
     "text": [
      "% of Accidents happening on sundays 10.89378220636678\n"
     ]
    }
   ],
   "source": [
    "#Analysis Number 7\n",
    "acc_sunday=(float(len(df.loc[df.Day_of_Week==1,:]))/len(df))*100\n",
    "#print 'acc_sunday',acc_sunday\n",
    "print ('% of Accidents happening on sundays',acc_sunday);"
   ]
  },
  {
   "cell_type": "markdown",
   "metadata": {},
   "source": [
    "### Accidents happening on mondays"
   ]
  },
  {
   "cell_type": "code",
   "execution_count": 84,
   "metadata": {},
   "outputs": [
    {
     "name": "stdout",
     "output_type": "stream",
     "text": [
      "% of Accidents happening on mondays 10.89378220636678\n"
     ]
    }
   ],
   "source": [
    "acc_monday=float(len(df.loc[df.Day_of_Week==2,:]))/len(df)*100\n",
    "#print 'acc_monday',acc_monday\n",
    "print ('% of Accidents happening on mondays',acc_sunday);"
   ]
  },
  {
   "cell_type": "markdown",
   "metadata": {},
   "source": [
    "\n",
    "\n",
    "### Accidents on tuesdays\n"
   ]
  },
  {
   "cell_type": "code",
   "execution_count": 85,
   "metadata": {},
   "outputs": [
    {
     "name": "stdout",
     "output_type": "stream",
     "text": [
      "% of Accidents happening on tuesdays 15.252661937371004\n"
     ]
    }
   ],
   "source": [
    "acc_tuesday=(float(len(df.loc[df.Day_of_Week==3,:]))/len(df))*100\n",
    "#print ('acc_tuesday',acc_tuesday)\n",
    "print ('% of Accidents happening on tuesdays',acc_tuesday);"
   ]
  },
  {
   "cell_type": "markdown",
   "metadata": {},
   "source": [
    "### Accidents on wednesdays"
   ]
  },
  {
   "cell_type": "code",
   "execution_count": 86,
   "metadata": {},
   "outputs": [
    {
     "name": "stdout",
     "output_type": "stream",
     "text": [
      "% of Accidents happening on wednesdays 15.17885212066538\n"
     ]
    }
   ],
   "source": [
    "acc_wednesday=(float(len(df.loc[df.Day_of_Week==4,:]))/len(df))*100\n",
    "print ('% of Accidents happening on wednesdays',acc_wednesday);\n",
    "#print 'acc_wednesday',acc_wednesday"
   ]
  },
  {
   "cell_type": "markdown",
   "metadata": {},
   "source": [
    "### Accidents on thursdays\n"
   ]
  },
  {
   "cell_type": "code",
   "execution_count": 87,
   "metadata": {},
   "outputs": [
    {
     "name": "stdout",
     "output_type": "stream",
     "text": [
      "% of Accidents happening on thursdays 14.884979702300406\n"
     ]
    }
   ],
   "source": [
    "acc_thursday=(float(len(df.loc[df.Day_of_Week==5,:]))/len(df))*100\n",
    "#print 'acc_thursday',acc_thursday\n",
    "print ('% of Accidents happening on thursdays',acc_thursday);\n",
    "\n"
   ]
  },
  {
   "cell_type": "markdown",
   "metadata": {},
   "source": [
    "### Accidents on fridays"
   ]
  },
  {
   "cell_type": "code",
   "execution_count": 88,
   "metadata": {},
   "outputs": [
    {
     "name": "stdout",
     "output_type": "stream",
     "text": [
      "% of Accidents happening on fridays 16.374844520987956\n"
     ]
    }
   ],
   "source": [
    "acc_friday=(float(len(df.loc[df.Day_of_Week==6,:]))/len(df))*100\n",
    "#print 'acc_friday',acc_friday\n",
    "print ('% of Accidents happening on fridays',acc_friday);\n"
   ]
  },
  {
   "cell_type": "markdown",
   "metadata": {},
   "source": [
    "### Accidents on saturdays"
   ]
  },
  {
   "cell_type": "code",
   "execution_count": 89,
   "metadata": {},
   "outputs": [
    {
     "name": "stdout",
     "output_type": "stream",
     "text": [
      "% of Accidents happening on saturdays 12.99941225516327\n"
     ]
    }
   ],
   "source": [
    "acc_saturday=(float(len(df.loc[df.Day_of_Week==7,:]))/len(df))*100\n",
    "#print 'acc_saturday',acc_saturday\n",
    "print ('% of Accidents happening on saturdays',acc_saturday);"
   ]
  },
  {
   "cell_type": "code",
   "execution_count": 90,
   "metadata": {
    "collapsed": true
   },
   "outputs": [],
   "source": [
    "labels=['sunday','monday','Tuesday','wednesday','Thursday','Friday','Saturday']\n",
    "data=[acc_sunday,acc_monday,acc_tuesday,acc_wednesday,acc_thursday,acc_friday,acc_saturday];\n",
    "explode=(0.0,0.0,0.0,0.0,0.0,0.1,0.0)"
   ]
  },
  {
   "cell_type": "markdown",
   "metadata": {},
   "source": [
    "### Plotting all days accidents\n"
   ]
  },
  {
   "cell_type": "code",
   "execution_count": 91,
   "metadata": {},
   "outputs": [
    {
     "data": {
      "image/png": "[encoded data removed]",
      "text/plain": [
       "<matplotlib.figure.Figure at 0x10a9ceda0>"
      ]
     },
     "metadata": {},
     "output_type": "display_data"
    }
   ],
   "source": [
    "plt.pie(data,explode=explode,labels=labels,shadow=True, autopct='%1.1f%%')\n",
    "plt.show()"
   ]
  },
  {
   "cell_type": "code",
   "execution_count": 121,
   "metadata": {},
   "outputs": [
    {
     "data": {
      "image/png": "[encoded data removed]",
      "text/plain": [
       "<matplotlib.figure.Figure at 0x109c655f8>"
      ]
     },
     "metadata": {},
     "output_type": "display_data"
    }
   ],
   "source": [
    "labels=['residential area at 30kmph','Urban areas','Uncontrolled junction','fine Weather','daylight']\n",
    "data=[analysis1,analysis2,analysis3,analysis4,analysis5]\n",
    "explode=(0.0,0.0,0.0,0.0,0.0)\n",
    "\n",
    "plt.pie(data,explode=explode,labels=labels,shadow=True, autopct='%1.1f%%')\n",
    "plt.show()"
   ]
  }
 ],
 "metadata": {
  "kernelspec": {
   "display_name": "Python 3",
   "language": "python",
   "name": "python3"
  },
  "language_info": {
   "codemirror_mode": {
    "name": "ipython",
    "version": 3
   },
   "file_extension": ".py",
   "mimetype": "text/x-python",
   "name": "python",
   "nbconvert_exporter": "python",
   "pygments_lexer": "ipython3",
   "version": "3.6.0"
  }
 },
 "nbformat": 4,
 "nbformat_minor": 2
}
